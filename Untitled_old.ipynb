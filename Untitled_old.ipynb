{
 "cells": [
  {
   "cell_type": "code",
   "execution_count": 11,
   "metadata": {},
   "outputs": [
    {
     "name": "stderr",
     "output_type": "stream",
     "text": [
      "/usr/local/lib/python2.7/dist-packages/nltk/twitter/__init__.py:20: UserWarning: The twython library has not been installed. Some functionality from the twitter package will not be available.\n",
      "  warnings.warn(\"The twython library has not been installed. \"\n"
     ]
    }
   ],
   "source": [
    "import json\n",
    "import sklearn.datasets\n",
    "import sklearn.metrics\n",
    "import sklearn.cross_validation\n",
    "import sklearn.svm\n",
    "import sklearn.naive_bayes\n",
    "import sklearn.neighbors\n",
    "import numpy as np\n",
    "from nltk.tokenize import RegexpTokenizer\n",
    "from nltk.stem.porter import PorterStemmer\n",
    "from nltk.corpus import stopwords\n",
    "from nltk.stem import WordNetLemmatizer\n",
    "import nltk.sentiment\n",
    "import pickle"
   ]
  },
  {
   "cell_type": "code",
   "execution_count": 2,
   "metadata": {},
   "outputs": [
    {
     "name": "stdout",
     "output_type": "stream",
     "text": [
      "[nltk_data] Downloading package wordnet to /home/saket/nltk_data...\n",
      "[nltk_data]   Package wordnet is already up-to-date!\n",
      "[nltk_data] Downloading package averaged_perceptron_tagger to\n",
      "[nltk_data]     /home/saket/nltk_data...\n",
      "[nltk_data]   Package averaged_perceptron_tagger is already up-to-\n",
      "[nltk_data]       date!\n"
     ]
    }
   ],
   "source": [
    "tokenizer = RegexpTokenizer(r'\\w+')\n",
    "en_stop = set(stopwords.words('english'))\n",
    "p_stemmer = PorterStemmer()\n",
    "wordnet_lemmatizer = WordNetLemmatizer()\n",
    "nltk.download('wordnet')\n",
    "nltk.download('averaged_perceptron_tagger')\n",
    "train_pickle = \"lemmed_doc.pkl\"\n",
    "test_pickle = \"lemmed_dev.pkl\""
   ]
  },
  {
   "cell_type": "code",
   "execution_count": 3,
   "metadata": {},
   "outputs": [],
   "source": [
    "def measures(class_labels,predicted_class):\n",
    "    print \"accuracy\",sklearn.metrics.accuracy_score(class_labels,predicted_class)\n",
    "    print \"confusion\"\n",
    "    confusion = sklearn.metrics.confusion_matrix(class_labels,predicted_class)\n",
    "    print confusion\n",
    "    print \"macro f\",sklearn.metrics.f1_score(class_labels,predicted_class,average='macro')\n",
    "    print \"micro f\",sklearn.metrics.f1_score(class_labels,predicted_class,average='micro')\n",
    "    print \"weighted f\",sklearn.metrics.f1_score(class_labels,predicted_class,average='weighted')"
   ]
  },
  {
   "cell_type": "code",
   "execution_count": 4,
   "metadata": {},
   "outputs": [],
   "source": [
    "def cleaning(docs,adjective):\n",
    "    new_docs = []\n",
    "    for document in docs:\n",
    "        raw = document.lower()\n",
    "        raw = raw.replace(\"<br /><br />\", \" \")\n",
    "        tokens = tokenizer.tokenize(raw)\n",
    "        if adjective:\n",
    "            pos = nltk.pos_tag(tokens)\n",
    "            adj_list = [tag[0] for tag in pos if tag[1] == 'JJ']\n",
    "        stopped_tokens = [token for token in tokens if token not in en_stop]\n",
    "        stemmed_tokens = [p_stemmer.stem(token) for token in stopped_tokens]\n",
    "        if adjective:\n",
    "            stemmed_adj_tokens = [p_stemmer.stem(token) for token in adj_list]\n",
    "            stemmed_tokens = stemmed_tokens + stemmed_adj_tokens\n",
    "        documentWords = ' '.join(stemmed_tokens)\n",
    "        new_docs.append(documentWords)\n",
    "    return new_docs"
   ]
  },
  {
   "cell_type": "code",
   "execution_count": 5,
   "metadata": {},
   "outputs": [],
   "source": [
    "def cleaning2(sample,file_name,adjective):\n",
    "    file_name = '../dataset/' + file_name\n",
    "    with open(file_name, 'rb') as f:\n",
    "        lemmed_tokens = pickle.load(f)\n",
    "    new_docs = []\n",
    "    for i in range(min(sample,len(lemmed_tokens))):\n",
    "        token_list = lemmed_tokens[i]\n",
    "        if adjective:\n",
    "            adj_list = [tag[0] for tag in token_list if tag[1] == 'JJ']\n",
    "        stopped_tokens = [token[0] for token in token_list if token[0] not in en_stop]\n",
    "        if adjective:\n",
    "            stopped_tokens = stopped_tokens + adj_list\n",
    "        documentWords = ' '.join(stopped_tokens)\n",
    "        new_docs.append(documentWords)\n",
    "    return new_docs"
   ]
  },
  {
   "cell_type": "code",
   "execution_count": 38,
   "metadata": {},
   "outputs": [],
   "source": [
    "filepath = '../dataset/audio_train.json' \n",
    "documents = []\n",
    "class_labels = []\n",
    "summary = []\n",
    "\n",
    "with open(filepath,'r') as fp:  \n",
    "    line = fp.readline()\n",
    "    while line:\n",
    "        input_data = (json.loads(line))\n",
    "        documents.append(input_data[\"reviewText\"])\n",
    "        summary.append(input_data[\"summary\"])\n",
    "        class_label = float(input_data[\"overall\"])\n",
    "        if class_label<=2:\n",
    "            class_labels.append(-1)\n",
    "        elif class_label==3:\n",
    "            class_labels.append(0)\n",
    "        else:\n",
    "            class_labels.append(1)\n",
    "        line = fp.readline()"
   ]
  },
  {
   "cell_type": "code",
   "execution_count": 7,
   "metadata": {},
   "outputs": [],
   "source": [
    "dev_documents = []\n",
    "dev_labels = []\n",
    "filepath = '../dataset/audio_dev.json' \n",
    "dev_summary = []\n",
    "with open(filepath,'r') as fp:  \n",
    "    line = fp.readline()\n",
    "    while line:\n",
    "        input_data = (json.loads(line))\n",
    "        class_label = float(input_data[\"overall\"])\n",
    "        dev_summary.append(input_data[\"summary\"])\n",
    "        if class_label<=2:\n",
    "            dev_documents.append(input_data[\"reviewText\"])\n",
    "            dev_labels.append(-1)\n",
    "        elif class_label==3:\n",
    "            dev_documents.append(input_data[\"reviewText\"])\n",
    "            dev_labels.append(0)\n",
    "        else:\n",
    "            dev_documents.append(input_data[\"reviewText\"])\n",
    "            dev_labels.append(1)\n",
    "        line = fp.readline()\n"
   ]
  },
  {
   "cell_type": "code",
   "execution_count": 8,
   "metadata": {},
   "outputs": [],
   "source": [
    "def under_sample(sample_size,documents,labels,summary):\n",
    "    counter_1 = 0\n",
    "    counter_2 = 0\n",
    "    counter_3 = 0\n",
    "    undersampled_docs = []\n",
    "    undersampled_labels = []\n",
    "    undersampled_summary = []\n",
    "    i = 0\n",
    "    for i in range(len(documents)):\n",
    "        if labels[i]==-1 and counter_1 < sample_size:\n",
    "            undersampled_docs.append(documents[i])\n",
    "            undersampled_labels.append(labels[i])\n",
    "            undersampled_summary.append(summary[i])\n",
    "            counter_1 += 1\n",
    "        elif labels[i]==0 and counter_2 < sample_size:\n",
    "            undersampled_docs.append(documents[i])\n",
    "            undersampled_labels.append(labels[i])\n",
    "            undersampled_summary.append(summary[i])\n",
    "            counter_2 += 1\n",
    "        elif labels[i]==1 and counter_3 < sample_size:\n",
    "            undersampled_docs.append(documents[i])\n",
    "            undersampled_labels.append(labels[i])\n",
    "            undersampled_summary.append(summary[i])\n",
    "            counter_3 += 1\n",
    "        if counter_1 == sample_size and counter_2 == sample_size and counter_3 == sample_size:\n",
    "            break\n",
    "        i+=1\n",
    "    return undersampled_docs,undersampled_labels,undersampled_summary"
   ]
  },
  {
   "cell_type": "code",
   "execution_count": 12,
   "metadata": {},
   "outputs": [],
   "source": [
    "def negate(documents):\n",
    "    new_documents = []\n",
    "    for doc in documents:\n",
    "        words = doc.split()\n",
    "        new_words = nltk.sentiment.util.mark_negation(words, double_neg_flip=False, shallow=False)\n",
    "        newdocument = ' '.join(new_words)\n",
    "        new_documents.append(newdocument)\n",
    "    return new_documents"
   ]
  },
  {
   "cell_type": "code",
   "execution_count": 39,
   "metadata": {},
   "outputs": [],
   "source": [
    "# with open('../pickles/complete_train_300000_clean.pkl', 'rb') as f:\n",
    "#     undersampled_docs1 = pickle.load(f)\n",
    "# with open('../pickles/complete_train_800000_clean.pkl', 'rb') as f:\n",
    "#     undersampled_docs2 = pickle.load(f)\n",
    "\n",
    "\n",
    "\n",
    "# undersampled_docs = undersampled_docs1 + undersampled_docs2\n",
    "undersampled_docs = documents[0:100000]\n",
    "for i in range(len(undersampled_docs)):\n",
    "    undersampled_docs[i] = undersampled_docs[i] + summary[i] + summary[i] + summary[i]\n",
    "undersampled_docs = negate(undersampled_docs)\n",
    "undersampled_labels = class_labels[0:100000]\n"
   ]
  },
  {
   "cell_type": "code",
   "execution_count": null,
   "metadata": {},
   "outputs": [],
   "source": [
    "# udev_documents,udev_labels,udev_summary = under_sample(4000,dev_documents,dev_labels,dev_summary)\n",
    "# udev_documents = dev_documents[0:5000]\n",
    "# with open('../pickles/complete_dev_clean.pkl', 'rb') as f:\n",
    "#     udev_documents = pickle.load(f)\n",
    "udev_documents = dev_documents\n",
    "udev_documents = negate(udev_documents)\n",
    "udev_labels = dev_labels\n",
    "# udev_labels = dev_labels[0:5000]\n",
    "# print len(undersampled_docs)"
   ]
  },
  {
   "cell_type": "code",
   "execution_count": null,
   "metadata": {},
   "outputs": [],
   "source": [
    "vect = sklearn.feature_extraction.text.TfidfVectorizer(ngram_range=(1,2),min_df=2,max_df=0.8,stop_words='english')\n",
    "# vect.fit(undersampled_docs)\n",
    "X_train_dtm = vect.fit_transform(undersampled_docs)"
   ]
  },
  {
   "cell_type": "code",
   "execution_count": null,
   "metadata": {},
   "outputs": [],
   "source": [
    "X_dev_dtm = vect.transform(udev_documents)"
   ]
  },
  {
   "cell_type": "code",
   "execution_count": null,
   "metadata": {},
   "outputs": [],
   "source": [
    "from sklearn import svm\n",
    "clf = svm.LinearSVC(C=1,class_weight='balanced').fit(X_train_dtm, undersampled_labels)\n",
    "# with open('../pickles/svm_74000_undersampled_1.pkl', 'wb') as f:\n",
    "#     pickle.dump(clf,f)"
   ]
  },
  {
   "cell_type": "code",
   "execution_count": null,
   "metadata": {},
   "outputs": [],
   "source": [
    "predicted_class =clf.predict(X_train_dtm)"
   ]
  },
  {
   "cell_type": "code",
   "execution_count": null,
   "metadata": {},
   "outputs": [],
   "source": [
    "predicted_dev_class = clf.predict(X_dev_dtm)"
   ]
  },
  {
   "cell_type": "code",
   "execution_count": null,
   "metadata": {},
   "outputs": [],
   "source": [
    "print \"without advectives\"\n",
    "print \"svm\"\n",
    "print \"train\"\n",
    "measures(undersampled_labels,predicted_class)\n",
    "print \"dev\"\n",
    "measures(udev_labels,predicted_dev_class)"
   ]
  },
  {
   "cell_type": "code",
   "execution_count": 313,
   "metadata": {},
   "outputs": [
    {
     "data": {
      "text/plain": [
       "MultinomialNB(alpha=1.0, class_prior=None, fit_prior=True)"
      ]
     },
     "execution_count": 313,
     "metadata": {},
     "output_type": "execute_result"
    }
   ],
   "source": [
    "clf_nb = sklearn.naive_bayes.MultinomialNB()\n",
    "clf_nb.fit(X_train_dtm,undersampled_labels)"
   ]
  },
  {
   "cell_type": "code",
   "execution_count": 314,
   "metadata": {},
   "outputs": [],
   "source": [
    "predicted_class =clf_nb.predict(X_train_dtm)\n",
    "predicted_dev_class = clf_nb.predict(X_dev_dtm)"
   ]
  },
  {
   "cell_type": "code",
   "execution_count": 315,
   "metadata": {},
   "outputs": [
    {
     "name": "stdout",
     "output_type": "stream",
     "text": [
      "nb\n",
      "train\n",
      "accuracy 0.874405405405\n",
      "confusion\n",
      "[[57177 15038  1785]\n",
      " [ 1387 71482  1131]\n",
      " [ 1173  7368 65459]]\n",
      "macro f 0.875379861661\n",
      "micro f 0.874405405405\n",
      "weighted f 0.875379861661\n",
      "dev\n",
      "accuracy 0.640011297479\n",
      "confusion\n",
      "[[ 4651  4087   430]\n",
      " [  807  8162  1099]\n",
      " [ 3459 29630 57434]]\n",
      "macro f 0.532337352164\n",
      "micro f 0.640011297479\n",
      "weighted f 0.705536832335\n"
     ]
    }
   ],
   "source": [
    "print \"nb\"\n",
    "print \"train\"\n",
    "measures(undersampled_labels,predicted_class)\n",
    "print \"dev\"\n",
    "measures(dev_labels,predicted_dev_class)"
   ]
  },
  {
   "cell_type": "code",
   "execution_count": null,
   "metadata": {},
   "outputs": [],
   "source": []
  }
 ],
 "metadata": {
  "kernelspec": {
   "display_name": "Python 2",
   "language": "python",
   "name": "python2"
  },
  "language_info": {
   "codemirror_mode": {
    "name": "ipython",
    "version": 2
   },
   "file_extension": ".py",
   "mimetype": "text/x-python",
   "name": "python",
   "nbconvert_exporter": "python",
   "pygments_lexer": "ipython2",
   "version": "2.7.12"
  }
 },
 "nbformat": 4,
 "nbformat_minor": 2
}
