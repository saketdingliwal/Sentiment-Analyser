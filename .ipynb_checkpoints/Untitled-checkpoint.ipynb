{
 "cells": [
  {
   "cell_type": "code",
   "execution_count": 230,
   "metadata": {},
   "outputs": [],
   "source": [
    "import json\n",
    "import sklearn.datasets\n",
    "import sklearn.metrics\n",
    "import sklearn.cross_validation\n",
    "import sklearn.svm\n",
    "import sklearn.naive_bayes\n",
    "import sklearn.neighbors\n",
    "import numpy as np\n",
    "from nltk.tokenize import RegexpTokenizer\n",
    "from nltk.stem.porter import PorterStemmer\n",
    "from nltk.corpus import stopwords\n",
    "from nltk.stem import WordNetLemmatizer\n",
    "import nltk"
   ]
  },
  {
   "cell_type": "code",
   "execution_count": 231,
   "metadata": {},
   "outputs": [
    {
     "name": "stdout",
     "output_type": "stream",
     "text": [
      "[nltk_data] Downloading package wordnet to /home/saket/nltk_data...\n",
      "[nltk_data]   Package wordnet is already up-to-date!\n",
      "[nltk_data] Downloading package averaged_perceptron_tagger to\n",
      "[nltk_data]     /home/saket/nltk_data...\n",
      "[nltk_data]   Package averaged_perceptron_tagger is already up-to-\n",
      "[nltk_data]       date!\n"
     ]
    },
    {
     "data": {
      "text/plain": [
       "True"
      ]
     },
     "execution_count": 231,
     "metadata": {},
     "output_type": "execute_result"
    }
   ],
   "source": [
    "tokenizer = RegexpTokenizer(r'\\w+')\n",
    "en_stop = set(stopwords.words('english'))\n",
    "p_stemmer = PorterStemmer()\n",
    "wordnet_lemmatizer = WordNetLemmatizer()\n",
    "nltk.download('wordnet')\n",
    "nltk.download('averaged_perceptron_tagger')"
   ]
  },
  {
   "cell_type": "code",
   "execution_count": 232,
   "metadata": {},
   "outputs": [],
   "source": [
    "def measures(class_labels,predicted_class):\n",
    "    print \"accuracy\",sklearn.metrics.accuracy_score(class_labels,predicted_class)\n",
    "    print \"confusion\"\n",
    "    confusion = sklearn.metrics.confusion_matrix(class_labels,predicted_class)\n",
    "    print confusion\n",
    "    print \"macro f\",f1_score(class_labels,predicted_class,average='macro')\n",
    "    print \"micro f\",f1_score(class_labels,predicted_class,average='micro')\n",
    "    print \"weighted f\",f1_score(class_labels,predicted_class,average='weighted')"
   ]
  },
  {
   "cell_type": "code",
   "execution_count": 233,
   "metadata": {},
   "outputs": [],
   "source": [
    "def cleaning(docs,adjective):\n",
    "    new_docs = []\n",
    "    for document in docs:\n",
    "        raw = document.lower()\n",
    "        raw = raw.replace(\"<br /><br />\", \" \")\n",
    "        tokens = tokenizer.tokenize(raw)\n",
    "        if adjective:\n",
    "            pos = nltk.pos_tag(tokens)\n",
    "            adj_list = [tag[0] for tag in pos if tag[1] == 'JJ']\n",
    "        stopped_tokens = [token for token in tokens if token not in en_stop]\n",
    "        lemmed_tokens = [wordnet_lemmatizer.lemmatize(token) for token in stopped_tokens]\n",
    "        stemmed_tokens = [p_stemmer.stem(token) for token in lemmed_tokens]\n",
    "        if adjective:\n",
    "            lemmed_adj_tokens = [wordnet_lemmatizer.lemmatize(token) for token in adj_list]\n",
    "            stemmed_adj_tokens = [p_stemmer.stem(token) for token in lemmed_adj_tokens]\n",
    "            stemmed_tokens = stemmed_tokens + stemmed_adj_tokens\n",
    "        documentWords = ' '.join(stemmed_tokens)\n",
    "        new_docs.append(documentWords)\n",
    "    return new_docs"
   ]
  },
  {
   "cell_type": "code",
   "execution_count": 234,
   "metadata": {},
   "outputs": [],
   "source": [
    "filepath = '../dataset/audio_train.json' \n",
    "documents = []\n",
    "class_labels = []\n",
    "\n",
    "documents_1 = []\n",
    "class_labels_1 = []\n",
    "documents_2 = []\n",
    "class_labels_2 = []\n",
    "documents_3 = []\n",
    "class_labels_3 = []\n",
    "summary_1 =[]\n",
    "summary_2 =[]\n",
    "summary_3 =[]\n",
    "\n",
    "with open(filepath,'r') as fp:  \n",
    "    line = fp.readline()\n",
    "    while line:\n",
    "        input_data = (json.loads(line))\n",
    "        documents.append(input_data[\"reviewText\"])\n",
    "        class_label = float(input_data[\"overall\"])\n",
    "        if class_label<=2:\n",
    "            class_labels.append(-1)\n",
    "            documents_1.append(input_data[\"reviewText\"])\n",
    "            summary_1.append(input_data[\"summary\"])\n",
    "            class_labels_1.append(-1)\n",
    "        elif class_label==3:\n",
    "            class_labels.append(0)\n",
    "            documents_2.append(input_data[\"reviewText\"])\n",
    "            summary_2.append(input_data[\"summary\"])\n",
    "            class_labels_2.append(0)\n",
    "        else:\n",
    "            class_labels.append(1)\n",
    "            documents_3.append(input_data[\"reviewText\"])\n",
    "            summary_3.append(input_data[\"summary\"]) \n",
    "            class_labels_3.append(1)\n",
    "        line = fp.readline()"
   ]
  },
  {
   "cell_type": "code",
   "execution_count": 248,
   "metadata": {},
   "outputs": [],
   "source": [
    "count_thresh = 5000\n",
    "count_1 = 0\n",
    "count_2 = 0\n",
    "count_3 = 0\n",
    "dev_documents = []\n",
    "dev_labels = []\n",
    "filepath = '../dataset/audio_dev.json' \n",
    "with open(filepath,'r') as fp:  \n",
    "    line = fp.readline()\n",
    "    while line:\n",
    "        input_data = (json.loads(line))\n",
    "        class_label = float(input_data[\"overall\"])\n",
    "        if class_label<=2 and count_1<count_thresh:\n",
    "#         if class_label<=2:\n",
    "            dev_documents.append(input_data[\"reviewText\"])\n",
    "            count_1 += 1\n",
    "            dev_labels.append(-1)\n",
    "        elif class_label==3 and count_2<count_thresh:\n",
    "#         elif class_label==3:\n",
    "            dev_documents.append(input_data[\"reviewText\"])\n",
    "            count_2 += 1\n",
    "            dev_labels.append(0)\n",
    "        elif count_3<count_thresh:\n",
    "#         else:\n",
    "            dev_documents.append(input_data[\"reviewText\"])\n",
    "            count_3 += 1\n",
    "            dev_labels.append(1)\n",
    "        line = fp.readline()\n"
   ]
  },
  {
   "cell_type": "code",
   "execution_count": 261,
   "metadata": {},
   "outputs": [],
   "source": [
    "samples = 10000\n",
    "sum_doc1 = []\n",
    "sum_doc2 = []\n",
    "sum_doc3 = []\n",
    "\n",
    "for i in range(samples):\n",
    "    sum_doc1.append(documents_1[i] + summary_1[i] + summary_1[i])\n",
    "for i in range(samples):\n",
    "    sum_doc2.append(documents_2[i] + summary_2[i] + summary_2[i])\n",
    "for i in range(samples):\n",
    "    sum_doc3.append(documents_3[i] + summary_3[i] + summary_3[i])\n",
    "\n",
    "undersampled_docs = sum_doc1[0:samples] + sum_doc2[0:samples] + sum_doc3[0:samples]\n",
    "undersampled_labels = class_labels_1[0:samples] + class_labels_2[0:samples] + class_labels_3[0:samples]\n",
    "\n",
    "# new_docs = cleaning(undersampled_docs,0)"
   ]
  },
  {
   "cell_type": "code",
   "execution_count": 237,
   "metadata": {},
   "outputs": [],
   "source": [
    "# dev_documents = cleaning(dev_documents,0)"
   ]
  },
  {
   "cell_type": "code",
   "execution_count": 268,
   "metadata": {},
   "outputs": [],
   "source": [
    "vect = sklearn.feature_extraction.text.CountVectorizer()\n",
    "vect.fit(undersampled_docs)\n",
    "X_train_dtm = vect.transform(undersampled_docs)"
   ]
  },
  {
   "cell_type": "code",
   "execution_count": 269,
   "metadata": {},
   "outputs": [],
   "source": [
    "vect_dev = sklearn.feature_extraction.text.CountVectorizer()\n",
    "vect_dev.fit(dev_documents)\n",
    "X_dev_dtm = vect.transform(dev_documents)"
   ]
  },
  {
   "cell_type": "code",
   "execution_count": 270,
   "metadata": {},
   "outputs": [],
   "source": [
    "from sklearn import svm\n",
    "clf = svm.LinearSVC().fit(X_train_dtm, undersampled_labels)"
   ]
  },
  {
   "cell_type": "code",
   "execution_count": 271,
   "metadata": {},
   "outputs": [],
   "source": [
    "predicted_class =clf.predict(X_train_dtm)"
   ]
  },
  {
   "cell_type": "code",
   "execution_count": 272,
   "metadata": {},
   "outputs": [],
   "source": [
    "predicted_dev_class = clf.predict(X_dev_dtm)"
   ]
  },
  {
   "cell_type": "code",
   "execution_count": 273,
   "metadata": {},
   "outputs": [
    {
     "name": "stdout",
     "output_type": "stream",
     "text": [
      "without advectives\n",
      "svm\n",
      "train\n",
      "accuracy 0.97430952381\n",
      "confusion\n",
      "[[68502  1213   285]\n",
      " [ 1771 66973  1256]\n",
      " [  203   667 69130]]\n",
      "macro f 0.974268406703\n",
      "micro f 0.97430952381\n",
      "weighted f 0.974268406703\n",
      "dev\n",
      "accuracy 0.636666666667\n",
      "confusion\n",
      "[[3428 1036  536]\n",
      " [1383 2409 1208]\n",
      " [ 461  826 3713]]\n",
      "macro f 0.632425611903\n",
      "micro f 0.636666666667\n",
      "weighted f 0.632425611903\n"
     ]
    }
   ],
   "source": [
    "print \"without advectives\"\n",
    "print \"svm\"\n",
    "print \"train\"\n",
    "measures(undersampled_labels,predicted_class)\n",
    "print \"dev\"\n",
    "measures(dev_labels,predicted_dev_class)"
   ]
  },
  {
   "cell_type": "code",
   "execution_count": 274,
   "metadata": {},
   "outputs": [
    {
     "data": {
      "text/plain": [
       "MultinomialNB(alpha=1.0, class_prior=None, fit_prior=True)"
      ]
     },
     "execution_count": 274,
     "metadata": {},
     "output_type": "execute_result"
    }
   ],
   "source": [
    "clf_nb = sklearn.naive_bayes.MultinomialNB()\n",
    "clf_nb.fit(X_train_dtm,undersampled_labels)"
   ]
  },
  {
   "cell_type": "code",
   "execution_count": 275,
   "metadata": {},
   "outputs": [],
   "source": [
    "predicted_class =clf_nb.predict(X_train_dtm)\n",
    "predicted_dev_class = clf_nb.predict(X_dev_dtm)"
   ]
  },
  {
   "cell_type": "code",
   "execution_count": 276,
   "metadata": {},
   "outputs": [
    {
     "name": "stdout",
     "output_type": "stream",
     "text": [
      "nb\n",
      "train\n",
      "accuracy 0.755142857143\n",
      "confusion\n",
      "[[54954 12330  2716]\n",
      " [12843 49884  7273]\n",
      " [ 7090  9168 53742]]\n",
      "macro f 0.755990971192\n",
      "micro f 0.755142857143\n",
      "weighted f 0.755990971192\n",
      "dev\n",
      "accuracy 0.646333333333\n",
      "confusion\n",
      "[[3439 1266  295]\n",
      " [1196 2927  877]\n",
      " [ 729  942 3329]]\n",
      "macro f 0.647338029713\n",
      "micro f 0.646333333333\n",
      "weighted f 0.647338029713\n"
     ]
    }
   ],
   "source": [
    "print \"nb\"\n",
    "print \"train\"\n",
    "measures(undersampled_labels,predicted_class)\n",
    "print \"dev\"\n",
    "measures(dev_labels,predicted_dev_class)"
   ]
  },
  {
   "cell_type": "code",
   "execution_count": null,
   "metadata": {},
   "outputs": [],
   "source": []
  }
 ],
 "metadata": {
  "kernelspec": {
   "display_name": "Python 2",
   "language": "python",
   "name": "python2"
  },
  "language_info": {
   "codemirror_mode": {
    "name": "ipython",
    "version": 2
   },
   "file_extension": ".py",
   "mimetype": "text/x-python",
   "name": "python",
   "nbconvert_exporter": "python",
   "pygments_lexer": "ipython2",
   "version": "2.7.12"
  }
 },
 "nbformat": 4,
 "nbformat_minor": 2
}
